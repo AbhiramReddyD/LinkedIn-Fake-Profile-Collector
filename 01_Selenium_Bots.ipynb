{
 "cells": [
  {
   "cell_type": "markdown",
   "metadata": {},
   "source": [
    "## [Read my Blog post explaining this code](https://matrixread.com/how-i-made-5-selenium-bots/)"
   ]
  },
  {
   "cell_type": "markdown",
   "metadata": {},
   "source": [
    "## Selenium intro\n"
   ]
  },
  {
   "cell_type": "code",
   "execution_count": 1,
   "metadata": {},
   "outputs": [],
   "source": [
    "from selenium import webdriver\n",
    "import time\n",
    "driver = webdriver.Chrome()\n",
    "driver.get('https://matrixread.com/')\n",
    "#opens the site in a new browser window \n",
    "#this time mentioned is for the user to see\n",
    "time.sleep(10)\n",
    "#finally closes it\n",
    "driver.quit()\n",
    "#this is most siple way to start and test the use of selenium"
   ]
  },
  {
   "cell_type": "markdown",
   "metadata": {},
   "source": [
    "## Program to visit a Website N Times"
   ]
  },
  {
   "cell_type": "code",
   "execution_count": null,
   "metadata": {},
   "outputs": [],
   "source": [
    "from selenium import webdriver\n",
    "import time\n",
    "driver = webdriver.Chrome()\n",
    "for i in range(50):\n",
    "    #loads this fifty times\n",
    "    print(i)\n",
    "    driver.get('https://matrixread.com/')\n",
    "time.sleep(5)\n",
    "driver.quit()"
   ]
  },
  {
   "cell_type": "markdown",
   "metadata": {},
   "source": [
    "## Link Collector"
   ]
  },
  {
   "cell_type": "code",
   "execution_count": null,
   "metadata": {},
   "outputs": [],
   "source": [
    "from selenium import webdriver\n",
    "driver = webdriver.Chrome()\n",
    "#opens my Blog\n",
    "driver.get('https://matrixread.com/')\n",
    "#gather all the links in a site\n",
    "for a in driver.find_elements_by_xpath('.//a'):\n",
    "    print(a.get_attribute('href'))\n",
    "#prints all of them"
   ]
  },
  {
   "cell_type": "markdown",
   "metadata": {},
   "source": [
    "## Login Bot"
   ]
  },
  {
   "cell_type": "code",
   "execution_count": null,
   "metadata": {},
   "outputs": [],
   "source": [
    "from selenium import webdriver\n",
    "import time\n",
    "driver = webdriver.Chrome()\n",
    "driver.get('https://sitetobeloggedin')\n",
    "#opens the site in a new browser window\n",
    "text_area = driver.find_element_by_id('username')\n",
    "text_area.send_keys(\"yourusername\")\n",
    "text_area = driver.find_element_by_id('password')\n",
    "text_area.send_keys(\"yourpassword\")\n",
    "# click submit button\n",
    "submit_button = driver.find_elements_by_xpath('button-login')[0]\n",
    "submit_button.click()\n",
    "time.sleep(6)\n",
    "driver.quit()"
   ]
  },
  {
   "cell_type": "markdown",
   "metadata": {},
   "source": [
    "## [Read my Blog post explaining this code](https://matrixread.com/how-i-made-5-selenium-bots/)"
   ]
  }
 ],
 "metadata": {
  "kernelspec": {
   "display_name": "Python 3",
   "language": "python",
   "name": "python3"
  },
  "language_info": {
   "codemirror_mode": {
    "name": "ipython",
    "version": 3
   },
   "file_extension": ".py",
   "mimetype": "text/x-python",
   "name": "python",
   "nbconvert_exporter": "python",
   "pygments_lexer": "ipython3",
   "version": "3.8.3"
  }
 },
 "nbformat": 4,
 "nbformat_minor": 4
}
