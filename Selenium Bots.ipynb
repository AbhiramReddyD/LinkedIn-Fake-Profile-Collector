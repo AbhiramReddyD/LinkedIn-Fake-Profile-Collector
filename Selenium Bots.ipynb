{
 "cells": [
  {
   "cell_type": "markdown",
   "metadata": {},
   "source": [
    "## Selenium intro\n"
   ]
  },
  {
   "cell_type": "code",
   "execution_count": null,
   "metadata": {},
   "outputs": [],
   "source": [
    "from selenium import webdriver\n",
    "#pip install selenium\n",
    "import time\n",
    "#download chrome web driver and add it to path\n",
    "options = webdriver.ChromeOptions()\n",
    "options.add_argument('--ignore-certificate-errors')\n",
    "options.add_argument(\"--test-type\")\n",
    "options.binary_location = \"/usr/bin/chromium\"\n",
    "driver = webdriver.Chrome()\n",
    "# I am using chrome for this\n",
    "driver.get('https://matrixread.com/')\n",
    "#opens the site in a new browser window \n",
    "#this time mentioned is for the user to see\n",
    "time.sleep(50)\n",
    "#finally closes it\n",
    "driver.quit()\n",
    "#this is most siple way to start and test the use of selenium"
   ]
  },
  {
   "cell_type": "markdown",
   "metadata": {},
   "source": [
    "## Link Collector"
   ]
  },
  {
   "cell_type": "code",
   "execution_count": null,
   "metadata": {},
   "outputs": [],
   "source": [
    "from selenium import webdriver\n",
    " \n",
    "options = webdriver.ChromeOptions()\n",
    "options.add_argument('--ignore-certificate-errors')\n",
    "options.add_argument(\"--test-type\")\n",
    "options.binary_location = \"/usr/bin/chromium\"\n",
    "driver = webdriver.Chrome()\n",
    " \n",
    "driver.get('https://linkedin.com/')\n",
    "#opens the site\n",
    "#gather all the links in a site\n",
    "for a in driver.find_elements_by_xpath('.//a'):\n",
    "    print(a.get_attribute('href'))\n",
    "#print all of them"
   ]
  },
  {
   "cell_type": "markdown",
   "metadata": {},
   "source": [
    "## Auto Subscriber"
   ]
  },
  {
   "cell_type": "code",
   "execution_count": null,
   "metadata": {},
   "outputs": [],
   "source": [
    "from selenium import webdriver\n",
    "import time\n",
    " \n",
    "options = webdriver.ChromeOptions()\n",
    "options.add_argument('--ignore-certificate-errors')\n",
    "options.add_argument(\"--test-type\")\n",
    "options.binary_location = \"/usr/bin/chromium\"\n",
    "driver = webdriver.Chrome()\n",
    "driver.get('http:techknowspace.wordpress.com')\n",
    " # type text\n",
    "text_area = driver.find_element_by_id('subscribe-field')\n",
    "#finding where to fill the text\n",
    "#sendig the text to be filled\n",
    "text_area.send_keys(\"user@gmail.com\")\n",
    "# click submit button\n",
    "submit_button = driver.find_elements_by_xpath('//*[@id=\"subscribe-blog\"]/p[4]/input[7]')[0]\n",
    "submit_button.click()"
   ]
  },
  {
   "cell_type": "markdown",
   "metadata": {},
   "source": [
    "## Login Bot"
   ]
  },
  {
   "cell_type": "code",
   "execution_count": null,
   "metadata": {},
   "outputs": [],
   "source": [
    "from selenium import webdriver\n",
    "#pip install selenium\n",
    "import time\n",
    "#download chrome web driver and add it to path\n",
    "options = webdriver.ChromeOptions()\n",
    "options.add_argument('--ignore-certificate-errors')\n",
    "options.add_argument(\"--test-type\")\n",
    "options.binary_location = \"/usr/bin/chromium\"\n",
    "driver = webdriver.Chrome()\n",
    "# I am using chrome for this\n",
    "driver.get('https://sitetobeloggedin')\n",
    "#opens the site in a new browser window\n",
    "#this time mentioned is for the user to see\n",
    "text_area = driver.find_element_by_id('username')\n",
    "#finding where to fill the text\n",
    "#sendig the text to be filled\n",
    "text_area.send_keys(\"username\")\n",
    "text_area = driver.find_element_by_id('password')\n",
    "text_area.send_keys(\"typepassword\")\n",
    "# click submit button\n",
    "submit_button = driver.find_elements_by_xpath('//*[@id=\"app__container\"]/div[1]/div/form/div[3]/button')[0]\n",
    "#chrome inspect and copy the x path of the button to be clicked\n",
    "submit_button.click()\n",
    "time.sleep(6)\n",
    "#waiting time\n",
    "driver.quit()\n",
    "#Remember some wewbsites can detect that you are using  a bot so it is better to set some sleep time and login manually\n",
    "#finally closes it"
   ]
  },
  {
   "cell_type": "markdown",
   "metadata": {},
   "source": [
    "## LinkedIn Login"
   ]
  },
  {
   "cell_type": "code",
   "execution_count": null,
   "metadata": {},
   "outputs": [],
   "source": [
    "from selenium import webdriver\n",
    "#pip install selenium\n",
    "import time\n",
    "import sqlite3 as sq\n",
    "#download chrome web driver and add it to path\n",
    "options = webdriver.ChromeOptions()\n",
    "options.add_argument('--ignore-certificate-errors')\n",
    "options.add_argument(\"--test-type\")\n",
    "options.binary_location = \"/usr/bin/chromium\"\n",
    "driver = webdriver.Chrome()\n",
    "# I am using chrome for this\n",
    "driver.get('https://www.linkedin.com/uas/login?session_redirect=%2Fvoyager%2FloginRedirect%2Ehtml&fromSignIn=true&trk=uno-reg-join-sign-in')\n",
    "#opens the site in a new browser window\n",
    "#this time mentioned is for the user to see\n",
    "text_area = driver.find_element_by_id('username')\n",
    "#finding where to fill the text\n",
    "#sendig the text to be filled\n",
    "text_area.send_keys(\"Your_Email\")\n",
    "\n",
    "text_area = driver.find_element_by_id('password')\n",
    "\n",
    "text_area.send_keys(\"yoiurpassword\")\n",
    "\n",
    "# click submit button\n",
    "submit_button = driver.find_elements_by_xpath('//*[@id=\"app__container\"]/main/div/form/div[3]/button')[0]\n",
    "time.sleep(11)\n",
    "\n",
    "\n",
    "driver.quit()\n",
    "\n",
    "#finally closes it\n",
    "\n",
    "#this is most siple way to start and test the use of selenium"
   ]
  },
  {
   "cell_type": "markdown",
   "metadata": {},
   "source": [
    "## Fake visitor"
   ]
  },
  {
   "cell_type": "code",
   "execution_count": null,
   "metadata": {},
   "outputs": [],
   "source": [
    "from selenium import webdriver\n",
    "import time\n",
    " \n",
    "options = webdriver.ChromeOptions()\n",
    "options.add_argument('--ignore-certificate-errors')\n",
    "options.add_argument(\"--test-type\")\n",
    "options.binary_location = \"/usr/bin/chromium\"\n",
    "#unlike just loading the page this dosen't reload images\n",
    "prefs = {'profile.managed_default_content_settings.images':2, 'disk-cache-size': 4096}\n",
    "#using disk cache\n",
    "#faster loading of pages\n",
    "options.add_experimental_option(\"prefs\", prefs)\n",
    "driver = webdriver.Chrome()\n",
    "for i in range(250):\n",
    "    #loads this fifty times\n",
    "    print(i)\n",
    "    driver.get('https://matrixread.com')\n",
    "    #this is my blog page\n",
    "time.sleep(5)\n",
    "driver.quit()\n",
    "#Note this is experimental some websites detect that using a bot so be careful always proceed with caution\n",
    "# It may lead to permanent blocking of your account\n",
    "# Better to use a fake account"
   ]
  },
  {
   "cell_type": "code",
   "execution_count": null,
   "metadata": {},
   "outputs": [],
   "source": []
  }
 ],
 "metadata": {
  "kernelspec": {
   "display_name": "Python 3",
   "language": "python",
   "name": "python3"
  },
  "language_info": {
   "codemirror_mode": {
    "name": "ipython",
    "version": 3
   },
   "file_extension": ".py",
   "mimetype": "text/x-python",
   "name": "python",
   "nbconvert_exporter": "python",
   "pygments_lexer": "ipython3",
   "version": "3.8.3"
  }
 },
 "nbformat": 4,
 "nbformat_minor": 4
}
