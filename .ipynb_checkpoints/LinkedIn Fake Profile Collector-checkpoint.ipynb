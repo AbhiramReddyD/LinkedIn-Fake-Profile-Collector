{
 "cells": [
  {
   "cell_type": "markdown",
   "metadata": {},
   "source": [
    "## Start Session"
   ]
  },
  {
   "cell_type": "code",
   "execution_count": 28,
   "metadata": {},
   "outputs": [],
   "source": [
    "from selenium import webdriver\n",
    "import time\n",
    "options = webdriver.ChromeOptions()\n",
    "options.add_argument('--ignore-certificate-errors')\n",
    "options.add_argument(\"--test-type\")\n",
    "options.binary_location = \"/usr/bin/chromium\"\n",
    "driver = webdriver.Chrome(\"C:/WebDrivers/chromedriver.exe\")\n",
    "driver.get('https://www.linkedin.com/uas/login')"
   ]
  },
  {
   "cell_type": "markdown",
   "metadata": {},
   "source": [
    "## Login"
   ]
  },
  {
   "cell_type": "code",
   "execution_count": 29,
   "metadata": {},
   "outputs": [],
   "source": [
    "text_area = driver.find_element_by_id('username')\n",
    "text_area.send_keys(\"your_email@email.com\")\n",
    "text_area = driver.find_element_by_id('password')\n",
    "text_area.send_keys(\"your_password_here\")\n",
    "submit_button = driver.find_elements_by_xpath('//*[@id=\"app__container\"]/main/div/form/div[3]/button')[0]\n",
    "submit_button.click()"
   ]
  },
  {
   "cell_type": "markdown",
   "metadata": {},
   "source": [
    "# 1. Profile Link Collector"
   ]
  },
  {
   "cell_type": "markdown",
   "metadata": {},
   "source": [
    "## List"
   ]
  },
  {
   "cell_type": "code",
   "execution_count": 30,
   "metadata": {},
   "outputs": [],
   "source": [
    "s=[]\n",
    "s=[\"Amitab Bachan\",\"Samantha\",\"Mark Zuckerberg\"]\n",
    "l=(len(s))"
   ]
  },
  {
   "cell_type": "markdown",
   "metadata": {},
   "source": [
    "## Search and crawl"
   ]
  },
  {
   "cell_type": "code",
   "execution_count": 19,
   "metadata": {},
   "outputs": [],
   "source": [
    "def search(m):\n",
    "    driver.get(\"https://www.linkedin.com/feed/\")\n",
    "    search=driver.find_element_by_xpath(\"//*[@id=\\\"ember41\\\"]/input\")\n",
    "    search.send_keys(m,\"\\n\")\n",
    "    time.sleep(5)\n",
    "    print(\"Seraching\",m)\n",
    "    res=[]\n",
    "    for a in driver.find_elements_by_xpath('.//a'):\n",
    "        res.append(a.get_attribute(\"href\"))\n",
    "    n=\"\"\n",
    "    n=m.lower()\n",
    "    n=n.replace(\" \",\"-\")\n",
    "    print(n)\n",
    "    #these if statements are for getting exact links to the resultant profiles\n",
    "    for i in range (len(res)):\n",
    "        if n in res[i]:\n",
    "            print(res[i])"
   ]
  },
  {
   "cell_type": "markdown",
   "metadata": {},
   "source": [
    "## Iterator & Result"
   ]
  },
  {
   "cell_type": "code",
   "execution_count": null,
   "metadata": {},
   "outputs": [],
   "source": [
    "for i in range(len(s)):\n",
    "    z=s[i]\n",
    "    search(z)"
   ]
  },
  {
   "cell_type": "markdown",
   "metadata": {},
   "source": [
    "# 2. Brute Force Collector"
   ]
  },
  {
   "cell_type": "markdown",
   "metadata": {},
   "source": [
    "## Query start"
   ]
  },
  {
   "cell_type": "code",
   "execution_count": 31,
   "metadata": {},
   "outputs": [],
   "source": [
    "m=\"Jeff Bezos\"\n",
    "final_list=[]"
   ]
  },
  {
   "cell_type": "markdown",
   "metadata": {},
   "source": [
    "## Super Crawler and Intelligent Link collector"
   ]
  },
  {
   "cell_type": "code",
   "execution_count": null,
   "metadata": {},
   "outputs": [],
   "source": [
    "def search(m):\n",
    "    num=1\n",
    "    driver.get(\"https://www.linkedin.com/feed/\")\n",
    "    search=driver.find_element_by_xpath(\"//*[@id=\\\"ember41\\\"]/input\")\n",
    "    search.send_keys(m,\"\\n\")\n",
    "    time.sleep(5)\n",
    "    print(\"Seraching\",m)\n",
    "    res=[]\n",
    "    for a in driver.find_elements_by_xpath('.//a'):\n",
    "        res.append(a.get_attribute(\"href\"))\n",
    "    n=\"\"\n",
    "    n=m.lower()\n",
    "    n=n.replace(\" \",\"-\")\n",
    "    print(n)\n",
    "    for i in range (len(res)):\n",
    "        if n in res[i]:\n",
    "            print(\"Link \",num,\" : \",res[i])\n",
    "            num=num+1\n",
    "            final_list.append(res[i])\n",
    "    current=driver.current_url\n",
    "    j=2\n",
    "    for i in range(5):\n",
    "        j=j+1\n",
    "        res=[]\n",
    "        driver.get(current+\"&page=\"+str(j))\n",
    "        time.sleep(2)\n",
    "        for a in driver.find_elements_by_xpath('.//a'):\n",
    "            res.append(a.get_attribute(\"href\"))\n",
    "        n=\"\"\n",
    "        n=m.lower()\n",
    "        n=n.replace(\" \",\"-\")\n",
    "        for i in range (len(res)):\n",
    "            if n in res[i]:\n",
    "                print(\"Link \",num,\" : \",res[i])\n",
    "                num=num+1\n",
    "                final_list.append(res[i])\n",
    "    \n",
    "search(m)"
   ]
  },
  {
   "cell_type": "markdown",
   "metadata": {},
   "source": [
    "## Result - Collects 70+ fake profiles with exact match "
   ]
  },
  {
   "cell_type": "code",
   "execution_count": null,
   "metadata": {},
   "outputs": [],
   "source": [
    "for x in range(len(final_list)):\n",
    "    print(x,\" : \",final_list[x])"
   ]
  },
  {
   "cell_type": "markdown",
   "metadata": {},
   "source": [
    "## Sample result data"
   ]
  },
  {
   "cell_type": "markdown",
   "metadata": {},
   "source": [
    "### Seraching Jeff Bezos\n",
    "## jeff-bezos\n",
    "\n",
    "Link  1  :  https://www.linkedin.com/in/jeff-bezos-687b0283/\n",
    "Link  2  :  https://www.linkedin.com/in/jeff-bezos-687b0283/\n",
    "Link  3  :  https://www.linkedin.com/in/jeff-bezos-215523153/\n",
    "Link  4  :  https://www.linkedin.com/in/jeff-bezos-215523153/\n",
    "Link  5  :  https://www.linkedin.com/in/jeff-bezos-4200681b4/\n",
    "Link  6  :  https://www.linkedin.com/in/jeff-bezos-4200681b4/\n",
    "Link  7  :  https://www.linkedin.com/in/jeff-bezos-b762b4199/\n",
    "Link  8  :  https://www.linkedin.com/in/jeff-bezos-b762b4199/\n",
    "Link  9  :  https://www.linkedin.com/in/jeff-bezos-328a24182/\n",
    "Link  10  :  https://www.linkedin.com/in/jeff-bezos-328a24182/\n",
    "Link  11  :  https://www.linkedin.com/in/jeff-bezos-1550b9183/\n",
    "Link  12  :  https://www.linkedin.com/in/jeff-bezos-1550b9183/\n",
    "Link  13  :  https://www.linkedin.com/in/jeff-bezos-687b0283/\n",
    "Link  14  :  https://www.linkedin.com/in/jeff-bezos-687b0283/\n",
    "Link  15  :  https://www.linkedin.com/in/jeff-bezos-329207187/\n",
    "Link  16  :  https://www.linkedin.com/in/jeff-bezos-329207187/\n",
    "Link  17  :  https://www.linkedin.com/in/jeff-bezos-holding-trademarks-apr%C3%A8s-moi-105609194/\n",
    "Link  18  :  https://www.linkedin.com/in/jeff-bezos-holding-trademarks-apr%C3%A8s-moi-105609194/\n",
    "Link  19  :  https://www.linkedin.com/in/jeff-bezos-038ab2199/\n",
    "Link  20  :  https://www.linkedin.com/in/jeff-bezos-038ab2199/\n",
    "Link  21  :  https://www.linkedin.com/in/jeff-bezos-995108171/\n",
    "Link  22  :  https://www.linkedin.com/in/jeff-bezos-995108171/\n",
    "Link  23  :  https://www.linkedin.com/in/jeff-bezos-781534165/\n",
    "Link  24  :  https://www.linkedin.com/in/jeff-bezos-781534165/\n",
    "Link  25  :  https://www.linkedin.com/in/jeff-bezos-4a6919173/\n",
    "Link  26  :  https://www.linkedin.com/in/jeff-bezos-4a6919173/\n",
    "Link  27  :  https://www.linkedin.com/in/jeff-bezos-6aa709170/\n",
    "Link  28  :  https://www.linkedin.com/in/jeff-bezos-6aa709170/\n",
    "Link  29  :  https://www.linkedin.com/in/jeff-bezos-4a3496187/\n",
    "Link  30  :  https://www.linkedin.com/in/jeff-bezos-4a3496187/\n",
    "Link  31  :  https://www.linkedin.com/in/jeff-bezos-888b02186/\n",
    "Link  32  :  https://www.linkedin.com/in/jeff-bezos-888b02186/\n",
    "Link  33  :  https://www.linkedin.com/in/jeff-bezos-b128971a4/\n",
    "Link  34  :  https://www.linkedin.com/in/jeff-bezos-b128971a4/\n",
    "Link  35  :  https://www.linkedin.com/in/jeff-bezos-1b35b1168/\n",
    "Link  36  :  https://www.linkedin.com/in/jeff-bezos-1b35b1168/\n",
    "Link  37  :  https://www.linkedin.com/in/jeff-bezos-3b04981a6/\n",
    "Link  38  :  https://www.linkedin.com/in/jeff-bezos-3b04981a6/\n",
    "Link  39  :  https://www.linkedin.com/in/jeff-bezos-670b121a0/\n",
    "Link  40  :  https://www.linkedin.com/in/jeff-bezos-670b121a0/\n",
    "Link  41  :  https://www.linkedin.com/in/jeff-bezos-bb1b57139/\n",
    "Link  42  :  https://www.linkedin.com/in/jeff-bezos-bb1b57139/\n",
    "Link  43  :  https://www.linkedin.com/in/jeff-bezos-1691321a4/\n",
    "Link  44  :  https://www.linkedin.com/in/jeff-bezos-1691321a4/\n",
    "Link  45  :  https://www.linkedin.com/in/jeff-bezos-9312041b1/\n",
    "Link  46  :  https://www.linkedin.com/in/jeff-bezos-9312041b1/\n",
    "Link  47  :  https://www.linkedin.com/in/jeff-bezos-b007731a7/\n",
    "Link  48  :  https://www.linkedin.com/in/jeff-bezos-b007731a7/\n",
    "Link  49  :  https://www.linkedin.com/in/jeff-bezos-541b401b3/\n",
    "Link  50  :  https://www.linkedin.com/in/jeff-bezos-541b401b3/\n",
    "Link  51  :  https://www.linkedin.com/in/jeff-bezos-a2041819a/\n",
    "Link  52  :  https://www.linkedin.com/in/jeff-bezos-a2041819a/\n",
    "Link  53  :  https://www.linkedin.com/in/jeff-bezos-3707b21a4/\n",
    "Link  54  :  https://www.linkedin.com/in/jeff-bezos-3707b21a4/\n",
    "Link  55  :  https://www.linkedin.com/in/jeff-bezos-b222751b2/\n",
    "Link  56  :  https://www.linkedin.com/in/jeff-bezos-b222751b2/\n",
    "Link  57  :  https://www.linkedin.com/in/jeff-bezos-276550145/\n",
    "Link  58  :  https://www.linkedin.com/in/jeff-bezos-276550145/\n",
    "Link  59  :  https://www.linkedin.com/in/jeff-bezos-8134861b3/\n",
    "Link  60  :  https://www.linkedin.com/in/jeff-bezos-8134861b3/\n",
    "Link  61  :  https://www.linkedin.com/in/jeff-bezos-7b89301a8/\n",
    "Link  62  :  https://www.linkedin.com/in/jeff-bezos-7b89301a8/\n",
    "Link  63  :  https://www.linkedin.com/in/jeff-bezos-971a9418a/\n",
    "Link  64  :  https://www.linkedin.com/in/jeff-bezos-971a9418a/\n",
    "Link  65  :  https://www.linkedin.com/in/jeff-bezos-a184b01a9/\n",
    "Link  66  :  https://www.linkedin.com/in/jeff-bezos-a184b01a9/\n",
    "Link  67  :  https://www.linkedin.com/in/jeff-bezos-70ab081aa/\n",
    "Link  68  :  https://www.linkedin.com/in/jeff-bezos-70ab081aa/\n",
    "Link  69  :  https://www.linkedin.com/in/jeff-bezos-042318172/\n",
    "Link  70  :  https://www.linkedin.com/in/jeff-bezos-042318172/\n",
    "Link  71  :  https://www.linkedin.com/in/my-name-is-jeff-bezos-senior-b69507153/\n",
    "Link  72  :  https://www.linkedin.com/in/my-name-is-jeff-bezos-senior-b69507153/\n",
    "Link  73  :  https://www.linkedin.com/in/jeff-bezos-45b562153/\n",
    "Link  74  :  https://www.linkedin.com/in/jeff-bezos-45b562153/\n",
    "Link  75  :  https://www.linkedin.com/in/kevin-jeff-bezos-exploits-employees-lu-75621b95/\n",
    "Link  76  :  https://www.linkedin.com/in/kevin-jeff-bezos-exploits-employees-lu-75621b95/"
   ]
  },
  {
   "cell_type": "code",
   "execution_count": null,
   "metadata": {},
   "outputs": [],
   "source": []
  }
 ],
 "metadata": {
  "kernelspec": {
   "display_name": "Python 3",
   "language": "python",
   "name": "python3"
  },
  "language_info": {
   "codemirror_mode": {
    "name": "ipython",
    "version": 3
   },
   "file_extension": ".py",
   "mimetype": "text/x-python",
   "name": "python",
   "nbconvert_exporter": "python",
   "pygments_lexer": "ipython3",
   "version": "3.8.3"
  }
 },
 "nbformat": 4,
 "nbformat_minor": 4
}
